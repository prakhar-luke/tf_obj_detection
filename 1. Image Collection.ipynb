{
 "cells": [
  {
   "cell_type": "markdown",
   "metadata": {},
   "source": [
    "# 1. Import Dependencies"
   ]
  },
  {
   "cell_type": "code",
   "execution_count": 1,
   "metadata": {},
   "outputs": [
    {
     "name": "stdout",
     "output_type": "stream",
     "text": [
      "Collecting opencv-python\n",
      "  Obtaining dependency information for opencv-python from https://files.pythonhosted.org/packages/fb/c4/f574ba6f04e6d7bf8c38d23e7a52389566dd7631fee0bcdd79ea07ef2dbf/opencv_python-4.8.0.76-cp37-abi3-win_amd64.whl.metadata\n",
      "  Using cached opencv_python-4.8.0.76-cp37-abi3-win_amd64.whl.metadata (20 kB)\n",
      "Requirement already satisfied: numpy>=1.21.2 in c:\\users\\prakh\\anaconda3\\envs\\tfod2\\lib\\site-packages (from opencv-python) (1.25.2)\n",
      "Using cached opencv_python-4.8.0.76-cp37-abi3-win_amd64.whl (38.1 MB)\n",
      "Installing collected packages: opencv-python\n",
      "Successfully installed opencv-python-4.8.0.76\n"
     ]
    }
   ],
   "source": [
    "!pip install opencv-python"
   ]
  },
  {
   "cell_type": "code",
   "execution_count": 1,
   "metadata": {},
   "outputs": [],
   "source": [
    "# Import opencv\n",
    "import cv2 \n",
    "\n",
    "# Import uuid\n",
    "import uuid\n",
    "\n",
    "# Import Operating System\n",
    "import os\n",
    "\n",
    "# Import time\n",
    "import time"
   ]
  },
  {
   "cell_type": "markdown",
   "metadata": {},
   "source": [
    "# 2. Define Images to Collect"
   ]
  },
  {
   "cell_type": "code",
   "execution_count": 6,
   "metadata": {},
   "outputs": [],
   "source": [
    "labels = ['thumbsup', 'thumbsdown', 'thankyou', 'livelong']\n",
    "#labels = ['thumbsup', 'thumbsdown']\n",
    "number_imgs = 5"
   ]
  },
  {
   "cell_type": "markdown",
   "metadata": {},
   "source": [
    "# 3. Setup Folders "
   ]
  },
  {
   "cell_type": "code",
   "execution_count": 7,
   "metadata": {},
   "outputs": [],
   "source": [
    "IMAGES_PATH = os.path.join('Tensorflow', 'workspace', 'images', 'collectedimages')"
   ]
  },
  {
   "cell_type": "code",
   "execution_count": 4,
   "metadata": {},
   "outputs": [],
   "source": [
    "if not os.path.exists(IMAGES_PATH):\n",
    "    if os.name == 'posix':\n",
    "        !mkdir -p {IMAGES_PATH}\n",
    "    if os.name == 'nt':\n",
    "         !mkdir {IMAGES_PATH}\n",
    "for label in labels:\n",
    "    path = os.path.join(IMAGES_PATH, label)\n",
    "    if not os.path.exists(path):\n",
    "        !mkdir {path}"
   ]
  },
  {
   "cell_type": "markdown",
   "metadata": {},
   "source": [
    "# 4. Capture Images"
   ]
  },
  {
   "cell_type": "code",
   "execution_count": 9,
   "metadata": {},
   "outputs": [
    {
     "name": "stdout",
     "output_type": "stream",
     "text": [
      "Collecting images for thumbsup\n",
      "Collecting image 0\n",
      "Collecting image 1\n",
      "Collecting image 2\n",
      "Collecting image 3\n",
      "Collecting image 4\n",
      "Collecting images for thumbsdown\n",
      "Collecting image 0\n",
      "Collecting image 1\n",
      "Collecting image 2\n",
      "Collecting image 3\n",
      "Collecting image 4\n"
     ]
    }
   ],
   "source": [
    "for label in labels:\n",
    "    cap = cv2.VideoCapture(0)\n",
    "    print('Collecting images for {}'.format(label))\n",
    "    time.sleep(8)\n",
    "    for imgnum in range(number_imgs):\n",
    "        print('Collecting image {}'.format(imgnum))\n",
    "        ret, frame = cap.read()\n",
    "        imgname = os.path.join(IMAGES_PATH,label,label+'.'+'{}.jpg'.format(str(uuid.uuid1())))\n",
    "        cv2.imwrite(imgname, frame)\n",
    "        cv2.imshow('frame', frame)\n",
    "        time.sleep(2)\n",
    "\n",
    "        if cv2.waitKey(1) & 0xFF == ord('q'):\n",
    "            break\n",
    "cap.release()\n",
    "cv2.destroyAllWindows()"
   ]
  },
  {
   "cell_type": "markdown",
   "metadata": {},
   "source": [
    "# 5. Image Labelling"
   ]
  },
  {
   "cell_type": "code",
   "execution_count": 9,
   "metadata": {
    "collapsed": true,
    "jupyter": {
     "outputs_hidden": true
    },
    "scrolled": true
   },
   "outputs": [
    {
     "name": "stdout",
     "output_type": "stream",
     "text": [
      "Collecting pyqt5\n",
      "  Using cached PyQt5-5.15.9-cp37-abi3-win_amd64.whl (6.8 MB)\n",
      "Collecting lxml\n",
      "  Obtaining dependency information for lxml from https://files.pythonhosted.org/packages/50/ba/cb7bc9728a3be4e00dfd658fc76dc64fd9dbc3d5492ff44cda70574329c6/lxml-4.9.3-cp310-cp310-win_amd64.whl.metadata\n",
      "  Downloading lxml-4.9.3-cp310-cp310-win_amd64.whl.metadata (3.9 kB)\n",
      "Collecting PyQt5-sip<13,>=12.11 (from pyqt5)\n",
      "  Obtaining dependency information for PyQt5-sip<13,>=12.11 from https://files.pythonhosted.org/packages/9e/d1/2865085040c7bc553298553f51d6ac46b5051481b5c3eb8aad4bb5b63497/PyQt5_sip-12.12.2-cp310-cp310-win_amd64.whl.metadata\n",
      "  Downloading PyQt5_sip-12.12.2-cp310-cp310-win_amd64.whl.metadata (524 bytes)\n",
      "Collecting PyQt5-Qt5>=5.15.2 (from pyqt5)\n",
      "  Using cached PyQt5_Qt5-5.15.2-py3-none-win_amd64.whl (50.1 MB)\n",
      "Downloading lxml-4.9.3-cp310-cp310-win_amd64.whl (3.8 MB)\n",
      "   ---------------------------------------- 0.0/3.8 MB ? eta -:--:--\n",
      "   ---------------------------------------- 0.0/3.8 MB 1.3 MB/s eta 0:00:03\n",
      "    --------------------------------------- 0.1/3.8 MB 787.7 kB/s eta 0:00:05\n",
      "   - -------------------------------------- 0.2/3.8 MB 1.1 MB/s eta 0:00:04\n",
      "   --- ------------------------------------ 0.3/3.8 MB 1.8 MB/s eta 0:00:02\n",
      "   --- ------------------------------------ 0.4/3.8 MB 1.9 MB/s eta 0:00:02\n",
      "   --- ------------------------------------ 0.4/3.8 MB 1.9 MB/s eta 0:00:02\n",
      "   --- ------------------------------------ 0.4/3.8 MB 1.9 MB/s eta 0:00:02\n",
      "   ----- ---------------------------------- 0.5/3.8 MB 1.5 MB/s eta 0:00:03\n",
      "   ------ --------------------------------- 0.6/3.8 MB 1.4 MB/s eta 0:00:03\n",
      "   ------ --------------------------------- 0.6/3.8 MB 1.5 MB/s eta 0:00:03\n",
      "   ------ --------------------------------- 0.6/3.8 MB 1.5 MB/s eta 0:00:03\n",
      "   ------ --------------------------------- 0.6/3.8 MB 1.5 MB/s eta 0:00:03\n",
      "   ------ --------------------------------- 0.6/3.8 MB 1.5 MB/s eta 0:00:03\n",
      "   -------- ------------------------------- 0.8/3.8 MB 1.3 MB/s eta 0:00:03\n",
      "   -------- ------------------------------- 0.8/3.8 MB 1.3 MB/s eta 0:00:03\n",
      "   --------- ------------------------------ 0.9/3.8 MB 1.2 MB/s eta 0:00:03\n",
      "   --------- ------------------------------ 0.9/3.8 MB 1.1 MB/s eta 0:00:03\n",
      "   --------- ------------------------------ 0.9/3.8 MB 1.1 MB/s eta 0:00:03\n",
      "   --------- ------------------------------ 0.9/3.8 MB 1.0 MB/s eta 0:00:03\n",
      "   --------- ------------------------------ 0.9/3.8 MB 1.0 MB/s eta 0:00:03\n",
      "   --------- ------------------------------ 0.9/3.8 MB 1.0 MB/s eta 0:00:03\n",
      "   --------- ------------------------------ 0.9/3.8 MB 1.0 MB/s eta 0:00:03\n",
      "   ---------- ----------------------------- 1.0/3.8 MB 933.6 kB/s eta 0:00:04\n",
      "   ---------- ----------------------------- 1.0/3.8 MB 933.6 kB/s eta 0:00:04\n",
      "   ---------- ----------------------------- 1.0/3.8 MB 933.6 kB/s eta 0:00:04\n",
      "   ---------- ----------------------------- 1.0/3.8 MB 836.1 kB/s eta 0:00:04\n",
      "   ---------- ----------------------------- 1.0/3.8 MB 800.8 kB/s eta 0:00:04\n",
      "   ----------- ---------------------------- 1.0/3.8 MB 797.4 kB/s eta 0:00:04\n",
      "   ----------- ---------------------------- 1.1/3.8 MB 786.5 kB/s eta 0:00:04\n",
      "   ----------- ---------------------------- 1.1/3.8 MB 773.0 kB/s eta 0:00:04\n",
      "   ----------- ---------------------------- 1.1/3.8 MB 761.1 kB/s eta 0:00:04\n",
      "   ------------ --------------------------- 1.1/3.8 MB 766.8 kB/s eta 0:00:04\n",
      "   ------------ --------------------------- 1.2/3.8 MB 748.0 kB/s eta 0:00:04\n",
      "   ------------ --------------------------- 1.2/3.8 MB 754.6 kB/s eta 0:00:04\n",
      "   ------------ --------------------------- 1.2/3.8 MB 744.1 kB/s eta 0:00:04\n",
      "   ------------ --------------------------- 1.2/3.8 MB 722.7 kB/s eta 0:00:04\n",
      "   ------------- -------------------------- 1.3/3.8 MB 720.0 kB/s eta 0:00:04\n",
      "   ------------- -------------------------- 1.3/3.8 MB 713.2 kB/s eta 0:00:04\n",
      "   ------------- -------------------------- 1.3/3.8 MB 711.7 kB/s eta 0:00:04\n",
      "   -------------- ------------------------- 1.3/3.8 MB 715.7 kB/s eta 0:00:04\n",
      "   -------------- ------------------------- 1.4/3.8 MB 708.6 kB/s eta 0:00:04\n",
      "   -------------- ------------------------- 1.4/3.8 MB 707.3 kB/s eta 0:00:04\n",
      "   --------------- ------------------------ 1.4/3.8 MB 706.0 kB/s eta 0:00:04\n",
      "   --------------- ------------------------ 1.5/3.8 MB 710.9 kB/s eta 0:00:04\n",
      "   --------------- ------------------------ 1.5/3.8 MB 709.6 kB/s eta 0:00:04\n",
      "   ---------------- ----------------------- 1.5/3.8 MB 703.1 kB/s eta 0:00:04\n",
      "   ---------------- ----------------------- 1.5/3.8 MB 697.2 kB/s eta 0:00:04\n",
      "   ---------------- ----------------------- 1.6/3.8 MB 705.6 kB/s eta 0:00:04\n",
      "   ----------------- ---------------------- 1.6/3.8 MB 704.8 kB/s eta 0:00:04\n",
      "   ----------------- ---------------------- 1.6/3.8 MB 703.8 kB/s eta 0:00:04\n",
      "   ----------------- ---------------------- 1.7/3.8 MB 702.8 kB/s eta 0:00:03\n",
      "   ------------------ --------------------- 1.7/3.8 MB 701.8 kB/s eta 0:00:03\n",
      "   ------------------ --------------------- 1.8/3.8 MB 705.1 kB/s eta 0:00:03\n",
      "   ------------------ --------------------- 1.8/3.8 MB 704.1 kB/s eta 0:00:03\n",
      "   ------------------- -------------------- 1.8/3.8 MB 707.0 kB/s eta 0:00:03\n",
      "   ------------------- -------------------- 1.9/3.8 MB 706.1 kB/s eta 0:00:03\n",
      "   -------------------- ------------------- 1.9/3.8 MB 705.1 kB/s eta 0:00:03\n",
      "   -------------------- ------------------- 1.9/3.8 MB 708.4 kB/s eta 0:00:03\n",
      "   -------------------- ------------------- 2.0/3.8 MB 710.8 kB/s eta 0:00:03\n",
      "   --------------------- ------------------ 2.0/3.8 MB 709.8 kB/s eta 0:00:03\n",
      "   --------------------- ------------------ 2.0/3.8 MB 708.9 kB/s eta 0:00:03\n",
      "   ---------------------- ----------------- 2.1/3.8 MB 715.3 kB/s eta 0:00:03\n",
      "   ---------------------- ----------------- 2.1/3.8 MB 717.8 kB/s eta 0:00:03\n",
      "   ---------------------- ----------------- 2.2/3.8 MB 716.8 kB/s eta 0:00:03\n",
      "   ----------------------- ---------------- 2.2/3.8 MB 722.5 kB/s eta 0:00:03\n",
      "   ----------------------- ---------------- 2.2/3.8 MB 721.5 kB/s eta 0:00:03\n",
      "   ------------------------ --------------- 2.3/3.8 MB 727.0 kB/s eta 0:00:03\n",
      "   ------------------------ --------------- 2.3/3.8 MB 725.9 kB/s eta 0:00:03\n",
      "   ------------------------- -------------- 2.4/3.8 MB 728.0 kB/s eta 0:00:02\n",
      "   ------------------------- -------------- 2.4/3.8 MB 733.4 kB/s eta 0:00:02\n",
      "   ------------------------- -------------- 2.4/3.8 MB 732.3 kB/s eta 0:00:02\n",
      "   -------------------------- ------------- 2.5/3.8 MB 737.3 kB/s eta 0:00:02\n",
      "   -------------------------- ------------- 2.5/3.8 MB 735.7 kB/s eta 0:00:02\n",
      "   --------------------------- ------------ 2.6/3.8 MB 740.9 kB/s eta 0:00:02\n",
      "   --------------------------- ------------ 2.6/3.8 MB 742.7 kB/s eta 0:00:02\n",
      "   ---------------------------- ----------- 2.7/3.8 MB 744.1 kB/s eta 0:00:02\n",
      "   ---------------------------- ----------- 2.7/3.8 MB 748.6 kB/s eta 0:00:02\n",
      "   ----------------------------- ---------- 2.8/3.8 MB 750.6 kB/s eta 0:00:02\n",
      "   ----------------------------- ---------- 2.8/3.8 MB 754.9 kB/s eta 0:00:02\n",
      "   ----------------------------- ---------- 2.8/3.8 MB 756.7 kB/s eta 0:00:02\n",
      "   ------------------------------ --------- 2.9/3.8 MB 760.0 kB/s eta 0:00:02\n",
      "   ------------------------------- -------- 2.9/3.8 MB 761.9 kB/s eta 0:00:02\n",
      "   ------------------------------- -------- 3.0/3.8 MB 765.8 kB/s eta 0:00:02\n",
      "   -------------------------------- ------- 3.0/3.8 MB 767.1 kB/s eta 0:00:01\n",
      "   -------------------------------- ------- 3.1/3.8 MB 768.0 kB/s eta 0:00:01\n",
      "   --------------------------------- ------ 3.1/3.8 MB 774.8 kB/s eta 0:00:01\n",
      "   --------------------------------- ------ 3.2/3.8 MB 775.9 kB/s eta 0:00:01\n",
      "   ---------------------------------- ----- 3.2/3.8 MB 779.5 kB/s eta 0:00:01\n",
      "   ---------------------------------- ----- 3.3/3.8 MB 783.0 kB/s eta 0:00:01\n",
      "   ----------------------------------- ---- 3.3/3.8 MB 784.0 kB/s eta 0:00:01\n",
      "   ----------------------------------- ---- 3.4/3.8 MB 787.3 kB/s eta 0:00:01\n",
      "   ------------------------------------ --- 3.4/3.8 MB 790.2 kB/s eta 0:00:01\n",
      "   ------------------------------------ --- 3.5/3.8 MB 793.5 kB/s eta 0:00:01\n",
      "   ------------------------------------- -- 3.5/3.8 MB 794.3 kB/s eta 0:00:01\n",
      "   ------------------------------------- -- 3.6/3.8 MB 797.4 kB/s eta 0:00:01\n",
      "   -------------------------------------- - 3.6/3.8 MB 803.3 kB/s eta 0:00:01\n",
      "   -------------------------------------- - 3.7/3.8 MB 805.6 kB/s eta 0:00:01\n",
      "   ---------------------------------------  3.7/3.8 MB 808.5 kB/s eta 0:00:01\n",
      "   ---------------------------------------- 3.8/3.8 MB 810.3 kB/s eta 0:00:00\n",
      "Downloading PyQt5_sip-12.12.2-cp310-cp310-win_amd64.whl (78 kB)\n",
      "   ---------------------------------------- 0.0/78.4 kB ? eta -:--:--\n",
      "   -------------------- ------------------- 41.0/78.4 kB 991.0 kB/s eta 0:00:01\n",
      "   ---------------------------------------- 78.4/78.4 kB 1.1 MB/s eta 0:00:00\n",
      "Installing collected packages: PyQt5-Qt5, PyQt5-sip, lxml, pyqt5\n",
      "Successfully installed PyQt5-Qt5-5.15.2 PyQt5-sip-12.12.2 lxml-4.9.3 pyqt5-5.15.9\n"
     ]
    }
   ],
   "source": [
    "!pip install --upgrade pyqt5 lxml"
   ]
  },
  {
   "cell_type": "code",
   "execution_count": 10,
   "metadata": {},
   "outputs": [],
   "source": [
    "LABELIMG_PATH = os.path.join('Tensorflow', 'labelimg')"
   ]
  },
  {
   "cell_type": "code",
   "execution_count": 12,
   "metadata": {},
   "outputs": [],
   "source": [
    "if not os.path.exists(LABELIMG_PATH):\n",
    "    !mkdir {LABELIMG_PATH}\n",
    "    !git clone https://github.com/tzutalin/labelImg {LABELIMG_PATH}"
   ]
  },
  {
   "cell_type": "code",
   "execution_count": 13,
   "metadata": {},
   "outputs": [],
   "source": [
    "if os.name == 'posix':\n",
    "    !make qt5py3\n",
    "if os.name =='nt':\n",
    "    !cd {LABELIMG_PATH} && pyrcc5 -o libs/resources.py resources.qrc"
   ]
  },
  {
   "cell_type": "code",
   "execution_count": 11,
   "metadata": {
    "scrolled": true
   },
   "outputs": [
    {
     "name": "stdout",
     "output_type": "stream",
     "text": [
      "Image:D:\\My_projects\\p1b\\TFODCourse\\Tensorflow\\workspace\\images\\collectedimages\\thumbsup\\thumbsup.04a20801-3a76-11ee-8ff5-3cf011199b73.jpg -> Annotation:D:/My_projects/p1b/TFODCourse/Tensorflow/workspace/images/collectedimages/thumbsup\\thumbsup.04a20801-3a76-11ee-8ff5-3cf011199b73.xml\n",
      "Image:D:\\My_projects\\p1b\\TFODCourse\\Tensorflow\\workspace\\images\\collectedimages\\thumbsup\\thumbsup.05d891f0-3a76-11ee-aabb-3cf011199b73.jpg -> Annotation:D:/My_projects/p1b/TFODCourse/Tensorflow/workspace/images/collectedimages/thumbsup\\thumbsup.05d891f0-3a76-11ee-aabb-3cf011199b73.xml\n",
      "Image:D:\\My_projects\\p1b\\TFODCourse\\Tensorflow\\workspace\\images\\collectedimages\\thumbsup\\thumbsup.070e2ad4-3a76-11ee-bf86-3cf011199b73.jpg -> Annotation:D:/My_projects/p1b/TFODCourse/Tensorflow/workspace/images/collectedimages/thumbsup\\thumbsup.070e2ad4-3a76-11ee-bf86-3cf011199b73.xml\n",
      "Image:D:\\My_projects\\p1b\\TFODCourse\\Tensorflow\\workspace\\images\\collectedimages\\thumbsup\\thumbsup.74c5c03b-3a75-11ee-83ad-3cf011199b73.jpg -> Annotation:D:/My_projects/p1b/TFODCourse/Tensorflow/workspace/images/collectedimages/thumbsup\\thumbsup.74c5c03b-3a75-11ee-83ad-3cf011199b73.xml\n",
      "Image:D:\\My_projects\\p1b\\TFODCourse\\Tensorflow\\workspace\\images\\collectedimages\\thumbsup\\thumbsup.75fc1f0b-3a75-11ee-ae4a-3cf011199b73.jpg -> Annotation:D:/My_projects/p1b/TFODCourse/Tensorflow/workspace/images/collectedimages/thumbsup\\thumbsup.75fc1f0b-3a75-11ee-ae4a-3cf011199b73.xml\n",
      "Image:D:\\My_projects\\p1b\\TFODCourse\\Tensorflow\\workspace\\images\\collectedimages\\thumbsup\\thumbsup.d8602d50-3a75-11ee-8656-3cf011199b73.jpg -> Annotation:D:/My_projects/p1b/TFODCourse/Tensorflow/workspace/images/collectedimages/thumbsup\\thumbsup.d8602d50-3a75-11ee-8656-3cf011199b73.xml\n",
      "Image:D:\\My_projects\\p1b\\TFODCourse\\Tensorflow\\workspace\\images\\collectedimages\\thumbsup\\thumbsup.d993583b-3a75-11ee-b932-3cf011199b73.jpg -> Annotation:D:/My_projects/p1b/TFODCourse/Tensorflow/workspace/images/collectedimages/thumbsup\\thumbsup.d993583b-3a75-11ee-b932-3cf011199b73.xml\n",
      "Cancel creation.\n",
      "Image:D:\\My_projects\\p1b\\TFODCourse\\Tensorflow\\workspace\\images\\collectedimages\\thumbsup\\thumbsup.daca6080-3a75-11ee-a274-3cf011199b73.jpg -> Annotation:D:/My_projects/p1b/TFODCourse/Tensorflow/workspace/images/collectedimages/thumbsup\\thumbsup.daca6080-3a75-11ee-a274-3cf011199b73.xml\n",
      "Image:D:\\My_projects\\p1b\\TFODCourse\\Tensorflow\\workspace\\images\\collectedimages\\thumbsup\\thumbsup.dbffd925-3a75-11ee-ad58-3cf011199b73.jpg -> Annotation:D:/My_projects/p1b/TFODCourse/Tensorflow/workspace/images/collectedimages/thumbsup\\thumbsup.dbffd925-3a75-11ee-ad58-3cf011199b73.xml\n",
      "Image:D:\\My_projects\\p1b\\TFODCourse\\Tensorflow\\workspace\\images\\collectedimages\\thumbsdown\\thumbsdown.12b9d694-3a76-11ee-9f33-3cf011199b73.jpg -> Annotation:D:/My_projects/p1b/TFODCourse/Tensorflow/workspace/images/collectedimages/thumbsdown\\thumbsdown.12b9d694-3a76-11ee-9f33-3cf011199b73.xml\n",
      "Image:D:\\My_projects\\p1b\\TFODCourse\\Tensorflow\\workspace\\images\\collectedimages\\thumbsdown\\thumbsdown.13f08fbb-3a76-11ee-8a3e-3cf011199b73.jpg -> Annotation:D:/My_projects/p1b/TFODCourse/Tensorflow/workspace/images/collectedimages/thumbsdown\\thumbsdown.13f08fbb-3a76-11ee-8a3e-3cf011199b73.xml\n",
      "Image:D:\\My_projects\\p1b\\TFODCourse\\Tensorflow\\workspace\\images\\collectedimages\\thumbsdown\\thumbsdown.81aa4be8-3a75-11ee-8ab2-3cf011199b73.jpg -> Annotation:D:/My_projects/p1b/TFODCourse/Tensorflow/workspace/images/collectedimages/thumbsdown\\thumbsdown.81aa4be8-3a75-11ee-8ab2-3cf011199b73.xml\n",
      "Image:D:\\My_projects\\p1b\\TFODCourse\\Tensorflow\\workspace\\images\\collectedimages\\thumbsdown\\thumbsdown.82e25679-3a75-11ee-b365-3cf011199b73.jpg -> Annotation:D:/My_projects/p1b/TFODCourse/Tensorflow/workspace/images/collectedimages/thumbsdown\\thumbsdown.82e25679-3a75-11ee-b365-3cf011199b73.xml\n",
      "Image:D:\\My_projects\\p1b\\TFODCourse\\Tensorflow\\workspace\\images\\collectedimages\\thumbsdown\\thumbsdown.12b9d694-3a76-11ee-9f33-3cf011199b73.jpg -> Annotation:D:/My_projects/p1b/TFODCourse/Tensorflow/workspace/images/collectedimages/thumbsdown\\thumbsdown.12b9d694-3a76-11ee-9f33-3cf011199b73.xml\n",
      "Image:D:\\My_projects\\p1b\\TFODCourse\\Tensorflow\\workspace\\images\\collectedimages\\thumbsdown\\thumbsdown.13f08fbb-3a76-11ee-8a3e-3cf011199b73.jpg -> Annotation:D:/My_projects/p1b/TFODCourse/Tensorflow/workspace/images/collectedimages/thumbsdown\\thumbsdown.13f08fbb-3a76-11ee-8a3e-3cf011199b73.xml\n",
      "Image:D:\\My_projects\\p1b\\TFODCourse\\Tensorflow\\workspace\\images\\collectedimages\\thumbsdown\\thumbsdown.81aa4be8-3a75-11ee-8ab2-3cf011199b73.jpg -> Annotation:D:/My_projects/p1b/TFODCourse/Tensorflow/workspace/images/collectedimages/thumbsdown\\thumbsdown.81aa4be8-3a75-11ee-8ab2-3cf011199b73.xml\n",
      "Image:D:\\My_projects\\p1b\\TFODCourse\\Tensorflow\\workspace\\images\\collectedimages\\thumbsdown\\thumbsdown.82e25679-3a75-11ee-b365-3cf011199b73.jpg -> Annotation:D:/My_projects/p1b/TFODCourse/Tensorflow/workspace/images/collectedimages/thumbsdown\\thumbsdown.82e25679-3a75-11ee-b365-3cf011199b73.xml\n",
      "Image:D:\\My_projects\\p1b\\TFODCourse\\Tensorflow\\workspace\\images\\collectedimages\\thumbsdown\\thumbsdown.1050dfb9-3a76-11ee-9ca8-3cf011199b73.jpg -> Annotation:D:/My_projects/p1b/TFODCourse/Tensorflow/workspace/images/collectedimages/thumbsdown\\thumbsdown.1050dfb9-3a76-11ee-9ca8-3cf011199b73.xml\n",
      "Image:D:\\My_projects\\p1b\\TFODCourse\\Tensorflow\\workspace\\images\\collectedimages\\thumbsdown\\thumbsdown.1183f4aa-3a76-11ee-b467-3cf011199b73.jpg -> Annotation:D:/My_projects/p1b/TFODCourse/Tensorflow/workspace/images/collectedimages/thumbsdown\\thumbsdown.1183f4aa-3a76-11ee-b467-3cf011199b73.xml\n",
      "Image:D:\\My_projects\\p1b\\TFODCourse\\Tensorflow\\workspace\\images\\collectedimages\\thumbsdown\\thumbsdown.15276cf3-3a76-11ee-9ee3-3cf011199b73.jpg -> Annotation:D:/My_projects/p1b/TFODCourse/Tensorflow/workspace/images/collectedimages/thumbsdown\\thumbsdown.15276cf3-3a76-11ee-9ee3-3cf011199b73.xml\n",
      "Image:D:\\My_projects\\p1b\\TFODCourse\\Tensorflow\\workspace\\images\\collectedimages\\thumbsdown\\thumbsdown.e7af0930-3a75-11ee-8e15-3cf011199b73.jpg -> Annotation:D:/My_projects/p1b/TFODCourse/Tensorflow/workspace/images/collectedimages/thumbsdown\\thumbsdown.e7af0930-3a75-11ee-8e15-3cf011199b73.xml\n",
      "Image:D:\\My_projects\\p1b\\TFODCourse\\Tensorflow\\workspace\\images\\collectedimages\\thumbsdown\\thumbsdown.e8e31581-3a75-11ee-8d44-3cf011199b73.jpg -> Annotation:D:/My_projects/p1b/TFODCourse/Tensorflow/workspace/images/collectedimages/thumbsdown\\thumbsdown.e8e31581-3a75-11ee-8d44-3cf011199b73.xml\n",
      "Image:D:\\My_projects\\p1b\\TFODCourse\\Tensorflow\\workspace\\images\\collectedimages\\thumbsdown\\thumbsdown.e67a322d-3a75-11ee-a716-3cf011199b73.jpg -> Annotation:D:/My_projects/p1b/TFODCourse/Tensorflow/workspace/images/collectedimages/thumbsdown\\thumbsdown.e67a322d-3a75-11ee-a716-3cf011199b73.xml\n",
      "Image:D:\\My_projects\\p1b\\TFODCourse\\Tensorflow\\workspace\\images\\collectedimages\\thankyou\\thankyou.8af1037f-3a75-11ee-93cc-3cf011199b73.jpg -> Annotation:D:/My_projects/p1b/TFODCourse/Tensorflow/workspace/images/collectedimages/thankyou\\thankyou.8af1037f-3a75-11ee-93cc-3cf011199b73.xml\n",
      "Image:D:\\My_projects\\p1b\\TFODCourse\\Tensorflow\\workspace\\images\\collectedimages\\thankyou\\thankyou.8c271b12-3a75-11ee-af08-3cf011199b73.jpg -> Annotation:D:/My_projects/p1b/TFODCourse/Tensorflow/workspace/images/collectedimages/thankyou\\thankyou.8c271b12-3a75-11ee-af08-3cf011199b73.xml\n",
      "Image:D:\\My_projects\\p1b\\TFODCourse\\Tensorflow\\workspace\\images\\collectedimages\\thankyou\\thankyou.8d5bbd20-3a75-11ee-b0ec-3cf011199b73.jpg -> Annotation:D:/My_projects/p1b/TFODCourse/Tensorflow/workspace/images/collectedimages/thankyou\\thankyou.8d5bbd20-3a75-11ee-b0ec-3cf011199b73.xml\n",
      "Image:D:\\My_projects\\p1b\\TFODCourse\\Tensorflow\\workspace\\images\\collectedimages\\thankyou\\thankyou.8e91ea8e-3a75-11ee-bad3-3cf011199b73.jpg -> Annotation:D:/My_projects/p1b/TFODCourse/Tensorflow/workspace/images/collectedimages/thankyou\\thankyou.8e91ea8e-3a75-11ee-bad3-3cf011199b73.xml\n",
      "Image:D:\\My_projects\\p1b\\TFODCourse\\Tensorflow\\workspace\\images\\collectedimages\\thankyou\\thankyou.8fc7d0c4-3a75-11ee-9695-3cf011199b73.jpg -> Annotation:D:/My_projects/p1b/TFODCourse/Tensorflow/workspace/images/collectedimages/thankyou\\thankyou.8fc7d0c4-3a75-11ee-9695-3cf011199b73.xml\n",
      "Image:D:\\My_projects\\p1b\\TFODCourse\\Tensorflow\\workspace\\images\\collectedimages\\livelong\\livelong.9a6c7f92-3a75-11ee-8739-3cf011199b73.jpg -> Annotation:D:/My_projects/p1b/TFODCourse/Tensorflow/workspace/images/collectedimages/livelong\\livelong.9a6c7f92-3a75-11ee-8739-3cf011199b73.xml\n",
      "Cancel creation.\n",
      "Image:D:\\My_projects\\p1b\\TFODCourse\\Tensorflow\\workspace\\images\\collectedimages\\livelong\\livelong.9ba03235-3a75-11ee-a547-3cf011199b73.jpg -> Annotation:D:/My_projects/p1b/TFODCourse/Tensorflow/workspace/images/collectedimages/livelong\\livelong.9ba03235-3a75-11ee-a547-3cf011199b73.xml\n",
      "Image:D:\\My_projects\\p1b\\TFODCourse\\Tensorflow\\workspace\\images\\collectedimages\\livelong\\livelong.9cd45305-3a75-11ee-a293-3cf011199b73.jpg -> Annotation:D:/My_projects/p1b/TFODCourse/Tensorflow/workspace/images/collectedimages/livelong\\livelong.9cd45305-3a75-11ee-a293-3cf011199b73.xml\n",
      "Image:D:\\My_projects\\p1b\\TFODCourse\\Tensorflow\\workspace\\images\\collectedimages\\livelong\\livelong.97fede49-3a75-11ee-b410-3cf011199b73.jpg -> Annotation:D:/My_projects/p1b/TFODCourse/Tensorflow/workspace/images/collectedimages/livelong\\livelong.97fede49-3a75-11ee-b410-3cf011199b73.xml\n",
      "Image:D:\\My_projects\\p1b\\TFODCourse\\Tensorflow\\workspace\\images\\collectedimages\\livelong\\livelong.9935a087-3a75-11ee-b2de-3cf011199b73.jpg -> Annotation:D:/My_projects/p1b/TFODCourse/Tensorflow/workspace/images/collectedimages/livelong\\livelong.9935a087-3a75-11ee-b2de-3cf011199b73.xml\n"
     ]
    }
   ],
   "source": [
    "!cd {LABELIMG_PATH} && python labelImg.py"
   ]
  },
  {
   "cell_type": "markdown",
   "metadata": {},
   "source": [
    "# 6. Move them into a Training and Testing Partition"
   ]
  },
  {
   "cell_type": "markdown",
   "metadata": {},
   "source": [
    "# OPTIONAL - 7. Compress them for Colab Training"
   ]
  },
  {
   "cell_type": "code",
   "execution_count": 20,
   "metadata": {},
   "outputs": [],
   "source": [
    "TRAIN_PATH = os.path.join('Tensorflow', 'workspace', 'images', 'train')\n",
    "TEST_PATH = os.path.join('Tensorflow', 'workspace', 'images', 'test')\n",
    "ARCHIVE_PATH = os.path.join('Tensorflow', 'workspace', 'images', 'archive.tar.gz')"
   ]
  },
  {
   "cell_type": "code",
   "execution_count": 21,
   "metadata": {},
   "outputs": [],
   "source": [
    "!tar -czf {ARCHIVE_PATH} {TRAIN_PATH} {TEST_PATH}"
   ]
  },
  {
   "cell_type": "code",
   "execution_count": null,
   "metadata": {},
   "outputs": [],
   "source": []
  }
 ],
 "metadata": {
  "kernelspec": {
   "display_name": "tfod2",
   "language": "python",
   "name": "tfod2"
  },
  "language_info": {
   "codemirror_mode": {
    "name": "ipython",
    "version": 3
   },
   "file_extension": ".py",
   "mimetype": "text/x-python",
   "name": "python",
   "nbconvert_exporter": "python",
   "pygments_lexer": "ipython3",
   "version": "3.10.0"
  }
 },
 "nbformat": 4,
 "nbformat_minor": 4
}
